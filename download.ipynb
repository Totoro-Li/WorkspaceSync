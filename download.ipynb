{
 "cells": [
  {
   "cell_type": "code",
   "execution_count": 1,
   "metadata": {},
   "outputs": [],
   "source": [
    "import os\n",
    "import re\n",
    "import requests\n",
    "from tqdm import tqdm\n",
    "\n",
    "CLOUDFLARE_WORKER_URL = \"https://cdn.zhuo.li\"\n",
    "DOWNLOAD_PATH = \"/root\"\n",
    "CHUNK_SIZE = 1024\n",
    "MAX_RETRIES = 10\n",
    "\n",
    "def download(target_url):\n",
    "    retries = 0\n",
    "    while retries < MAX_RETRIES:\n",
    "        try:\n",
    "            # Get the total file size\n",
    "            response = requests.head(f\"{CLOUDFLARE_WORKER_URL}?url={target_url}\")\n",
    "            file_size = int(response.headers.get(\"Content-Length\", 0))\n",
    "\n",
    "            # Get the filename from the Content-Disposition header or default to a generic name\n",
    "            cd = response.headers.get('Content-Disposition')\n",
    "            if cd:\n",
    "                fname = re.findall(\"filename[^;=\\n]*=((['\\\"]).*?\\2|[^;\\n]*)\", cd)\n",
    "                if len(fname) > 0 and len(fname[0]) > 0:\n",
    "                    fname = fname[0][0].replace('\"', '').replace(\"'\", \"\")\n",
    "                else:\n",
    "                    fname = os.path.basename(target_url)\n",
    "            else:\n",
    "                fname = os.path.basename(target_url)\n",
    "\n",
    "            # Append the download path to the filename\n",
    "            fname = os.path.join(DOWNLOAD_PATH, fname)\n",
    "\n",
    "            # If the file already exists, get the downloaded size for resuming\n",
    "            if os.path.exists(fname):\n",
    "                downloaded_size = os.path.getsize(fname)\n",
    "            else:\n",
    "                downloaded_size = 0\n",
    "\n",
    "            # If the file is already fully downloaded, no need to download again\n",
    "            if downloaded_size >= file_size:\n",
    "                print(f\"{fname} has been fully downloaded.\")\n",
    "                return\n",
    "\n",
    "            headers = {\"Range\": f\"bytes={downloaded_size}-\"}\n",
    "            response = requests.get(f\"{CLOUDFLARE_WORKER_URL}?url={target_url}\", headers=headers, stream=True)\n",
    "\n",
    "            if response.status_code in (200, 206):\n",
    "                progress = tqdm(total=file_size, initial=downloaded_size, unit=\"B\", unit_scale=True)\n",
    "                with open(fname, 'ab') as f:\n",
    "                    for chunk in response.iter_content(chunk_size=CHUNK_SIZE):\n",
    "                        f.write(chunk)\n",
    "                        progress.update(len(chunk))\n",
    "                progress.close()\n",
    "                \n",
    "                # Check for file integrity by comparing the downloaded file size and the expected size\n",
    "                if os.path.getsize(fname) != file_size:\n",
    "                    print(\"Downloaded file size does not match the expected size. Retrying.\")\n",
    "                    retries += 1\n",
    "                    continue\n",
    "                else:\n",
    "                    print(f\"Download completed: {fname}\")\n",
    "                    return\n",
    "            else:\n",
    "                print(f\"Failed to download the file. Status code: {response.status_code}\")\n",
    "                retries += 1\n",
    "        except Exception as e:\n",
    "            print(f\"An error occurred: {str(e)}. Retrying.\")\n",
    "            retries += 1\n",
    "\n",
    "    print(f\"Failed to download the file after {MAX_RETRIES} attempts.\")"
   ]
  },
  {
   "cell_type": "code",
   "execution_count": 2,
   "metadata": {},
   "outputs": [
    {
     "name": "stderr",
     "output_type": "stream",
     "text": [
      "  0%|          | 69.5M/190G [00:07<9:57:05, 5.31MB/s] "
     ]
    }
   ],
   "source": [
    "download(\"https://download.ifi.uzh.ch/rpg/RVT/datasets/preprocessed/gen4.tar\")"
   ]
  }
 ],
 "metadata": {
  "kernelspec": {
   "display_name": "base",
   "language": "python",
   "name": "python3"
  },
  "language_info": {
   "codemirror_mode": {
    "name": "ipython",
    "version": 3
   },
   "file_extension": ".py",
   "mimetype": "text/x-python",
   "name": "python",
   "nbconvert_exporter": "python",
   "pygments_lexer": "ipython3",
   "version": "3.8.10"
  },
  "orig_nbformat": 4
 },
 "nbformat": 4,
 "nbformat_minor": 2
}
