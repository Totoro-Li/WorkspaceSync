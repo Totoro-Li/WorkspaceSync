{
 "cells": [
  {
   "cell_type": "code",
   "execution_count": 1,
   "metadata": {},
   "outputs": [],
   "source": [
    "import os\n",
    "import re\n",
    "import requests\n",
    "from tqdm import tqdm\n",
    "\n",
    "CLOUDFLARE_WORKER_URL = \"https://cdn.zhuo.li\"\n",
    "DOWNLOAD_PATH = \"/media/HDD1\"\n",
    "\n",
    "def download(target_url):\n",
    "    response = requests.get(f\"{CLOUDFLARE_WORKER_URL}?url={target_url}\", stream=True)\n",
    "\n",
    "    if response.status_code == 200:\n",
    "        file_size = int(response.headers.get(\"Content-Length\", 0))\n",
    "        # Get the filename from the Content-Disposition header or default to a generic name\n",
    "        cd = response.headers.get('Content-Disposition')\n",
    "        if cd:\n",
    "            fname = re.findall(\"filename[^;=\\n]*=((['\\\"]).*?\\2|[^;\\n]*)\", cd)\n",
    "            if len(fname) > 0 and len(fname[0]) > 0:\n",
    "                fname = fname[0][0].replace('\"', '').replace(\"'\", \"\")\n",
    "            else:\n",
    "                fname = os.path.basename(target_url)\n",
    "        else:\n",
    "            fname = os.path.basename(target_url)\n",
    "\n",
    "        # Append the download path to the filename\n",
    "        fname = os.path.join(DOWNLOAD_PATH, fname)\n",
    "\n",
    "        progress = tqdm(response.iter_content(chunk_size=1024), f'Downloading {fname}', total=file_size, unit=\"B\", unit_scale=True, unit_divisor=1024)\n",
    "        with open(fname, 'wb') as f:\n",
    "            for data in progress.iterable:\n",
    "                f.write(data)\n",
    "                progress.update(len(data))\n",
    "    else:\n",
    "        print(f\"Failed to download the file. Status code: {response.status_code}\")"
   ]
  },
  {
   "cell_type": "code",
   "execution_count": null,
   "metadata": {},
   "outputs": [],
   "source": [
    "download(\"https://download.ifi.uzh.ch/rpg/RVT/datasets/preprocessed/gen4.tar\")"
   ]
  }
 ],
 "metadata": {
  "kernelspec": {
   "display_name": "base",
   "language": "python",
   "name": "python3"
  },
  "language_info": {
   "codemirror_mode": {
    "name": "ipython",
    "version": 3
   },
   "file_extension": ".py",
   "mimetype": "text/x-python",
   "name": "python",
   "nbconvert_exporter": "python",
   "pygments_lexer": "ipython3",
   "version": "3.8.10"
  },
  "orig_nbformat": 4
 },
 "nbformat": 4,
 "nbformat_minor": 2
}
